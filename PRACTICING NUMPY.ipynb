{
 "cells": [
  {
   "cell_type": "markdown",
   "id": "f975dee3",
   "metadata": {},
   "source": [
    "# NUMPY NOTES\n",
    "## MADE BY :-<U>TUSHAR SETHIYA</U>\n",
    "## GUIDED BY :- <U>ELLIE (CODE OF FUTURE)</U>"
   ]
  },
  {
   "cell_type": "markdown",
   "id": "440a6b8f",
   "metadata": {},
   "source": [
    "## CONTENT\n",
    "* [INTRODUCTION](#1)\n",
    "* [CREATING ARRAY AND DIMENSIONAL ARRAY](#2)\n",
    "* [INDEXING ARRAY](#3)\n",
    "* [SLICING ARRAY](#4)\n",
    "* [VIEW AND COPY](#5)\n",
    "* [SHAPING AND RESHAPING ARRAY](#6)\n",
    "* [BASIC OPRATION ON ARRAY](#7)\n",
    "* [ITERATING IN ARRYS](#8)\n",
    "* [JOINING ARRAY](#9)\n",
    "* [SEARCHING IN ARRAY](#10)\n",
    "* [SORTING AND FILTERING](#11)\n",
    "* [RANDOM](#12)"
   ]
  },
  {
   "cell_type": "markdown",
   "id": "3f89d3d0",
   "metadata": {},
   "source": [
    "## NUMPY INTRODUCTION <a class=\"anchor\" id=\"1\"></a>\n",
    "<B>NUMPY</B> IS A PYTHON LIBRARY USED FOR WORKING WITH ARRAYS.\n",
    "\n",
    "IT WAS CREATED BY <B> TRAVIS OLIPHANT </B> IN <B>2005</B> IT IS AN OPEN SOURCE PROJECT AND WE CAN USE IT FREELY.\n",
    "\n",
    "NUMPY STANDS FOR <B>NUMERICAL PYTHON</B>\n",
    "\n",
    "NUMPY PROVIDES TRADITONAL ARRAY OBJECTS THAT ARE 50X FASTER THAN PYTHON LIST\n",
    "\n",
    "NUMPY IS A PYTHON LIBRARY AND IS WRITTEN PARTIALLY IN PYTHON BUT MOST OF THE PARTS THAT REQUIRE FASTER COMPUTATION ARE WRITTEN IN C AND C++"
   ]
  },
  {
   "cell_type": "markdown",
   "id": "de4273c2",
   "metadata": {},
   "source": [
    "## WHY IS NUMPY FASTER THAN LISTS?\n",
    "NUMPY ARRAY ARE STORED AT ONE CONTINUOS PLACE IN MEMORY UNLIKE LISTS SO PROCESSES CAN ACCESS THEN AND MANIPULATE THEM VERY EFFICIENTLY.THIS BEHAVIOUR IS CALLED LOCALITY OF REFRENCE IN COMPUTER SCIENCE."
   ]
  },
  {
   "cell_type": "code",
   "execution_count": 1,
   "id": "c92383b3",
   "metadata": {},
   "outputs": [
    {
     "name": "stdout",
     "output_type": "stream",
     "text": [
      "Requirement already satisfied: numpy in /Users/tanya/opt/anaconda3/lib/python3.9/site-packages (1.21.5)\r\n"
     ]
    }
   ],
   "source": [
    "#NUMPY PACKAGE CAN BE INSTALLED USING \n",
    "!pip install numpy"
   ]
  },
  {
   "cell_type": "code",
   "execution_count": 2,
   "id": "6e87384a",
   "metadata": {},
   "outputs": [],
   "source": [
    "#now we can import numpy library \n",
    "import numpy as np     #generally numpy is stored under alias np"
   ]
  },
  {
   "cell_type": "code",
   "execution_count": 3,
   "id": "4e5b3987",
   "metadata": {},
   "outputs": [
    {
     "name": "stdout",
     "output_type": "stream",
     "text": [
      "1.21.5\n"
     ]
    }
   ],
   "source": [
    "#we can also check the version of numpy \n",
    "print(np.__version__)"
   ]
  },
  {
   "cell_type": "markdown",
   "id": "1c2b24fe",
   "metadata": {},
   "source": [
    "## CREATING ARRAY AND DIMENSIONAL ARRAY<a class=\"anchor\" id=\"2\"></a>"
   ]
  },
  {
   "cell_type": "code",
   "execution_count": 4,
   "id": "3fd8f6cd",
   "metadata": {},
   "outputs": [
    {
     "data": {
      "text/plain": [
       "array([1, 2, 3, 4, 5])"
      ]
     },
     "execution_count": 4,
     "metadata": {},
     "output_type": "execute_result"
    }
   ],
   "source": [
    "#The array object in numpy is called ndarray\n",
    "#To create an ndarray we can pass a list or tuple into array method can it will be converted into nd array\n",
    "\n",
    "arr = np.array((1,2,3,4,5)) #or arr = np.array([1,2,3,4,5])\n",
    "arr"
   ]
  },
  {
   "cell_type": "code",
   "execution_count": 5,
   "id": "bcd3ceee",
   "metadata": {},
   "outputs": [
    {
     "name": "stdout",
     "output_type": "stream",
     "text": [
      "[1 2 3 4 5]\n"
     ]
    }
   ],
   "source": [
    "print(arr)"
   ]
  },
  {
   "cell_type": "code",
   "execution_count": 6,
   "id": "4b5b8582",
   "metadata": {},
   "outputs": [],
   "source": [
    "#DIMENSION IN ARRAY IS ONE LEVEL OFA ARRAY DEPTH"
   ]
  },
  {
   "cell_type": "markdown",
   "id": "333bec58",
   "metadata": {},
   "source": [
    "#### 0-D ARRAYS\n",
    "0-D ARRAY OR SCALERS ARE ELEMENT IN ARRAY.EACH VALUE IN ARRAY IS 0-D ARRAY"
   ]
  },
  {
   "cell_type": "code",
   "execution_count": 7,
   "id": "5c0db92a",
   "metadata": {},
   "outputs": [
    {
     "name": "stdout",
     "output_type": "stream",
     "text": [
      "45\n",
      "<class 'numpy.ndarray'>\n",
      "0\n"
     ]
    }
   ],
   "source": [
    "ZERO_D_ARRAY = np.array(45)\n",
    "#lets print the array\n",
    "print(ZERO_D_ARRAY)\n",
    "\n",
    "#lets check the type of object\n",
    "print(type(ZERO_D_ARRAY))\n",
    "\n",
    "#lets check the dimenssion of the array ndim method can be used to check the dimmension of the array\n",
    "print(ZERO_D_ARRAY.ndim)"
   ]
  },
  {
   "cell_type": "markdown",
   "id": "482a15be",
   "metadata": {},
   "source": [
    "#### 1-D ARRAYS\n",
    "AN ARRAY THAT HAS 0-D ARRAYS AS ITS ELEMENTS IS CALLED UNI-DIMENSIONAL ARRAY\n",
    "THESE ARE THE MOST COMMON AND BASICS ARRAYS"
   ]
  },
  {
   "cell_type": "code",
   "execution_count": 8,
   "id": "4a76afaa",
   "metadata": {},
   "outputs": [
    {
     "name": "stdout",
     "output_type": "stream",
     "text": [
      "[1 2 3 4 5 6 7 8 9]\n",
      "<class 'numpy.ndarray'>\n",
      "1\n"
     ]
    }
   ],
   "source": [
    "ONE_D_ARRAY = np.array((1,2,3,4,5,6,7,8,9))\n",
    "\n",
    "print(ONE_D_ARRAY)\n",
    "\n",
    "print(type(ONE_D_ARRAY))\n",
    "\n",
    "print(ONE_D_ARRAY.ndim)"
   ]
  },
  {
   "cell_type": "markdown",
   "id": "c28bfb49",
   "metadata": {},
   "source": [
    "#### 2-D ARRAYS\n",
    "AN ARRAY THAT HAS 1-D ARRAYS AS ITS ELEMENTS IS CALLED 2-D ARRAY THESE ARE OFTEN USED TO REPRESENT MATRIX"
   ]
  },
  {
   "cell_type": "code",
   "execution_count": 9,
   "id": "684e4756",
   "metadata": {},
   "outputs": [
    {
     "name": "stdout",
     "output_type": "stream",
     "text": [
      "[[1 2 3]\n",
      " [4 5 6]\n",
      " [7 8 9]]\n",
      "<class 'numpy.ndarray'>\n",
      "2\n"
     ]
    }
   ],
   "source": [
    "TWO_D_ARRAY = np.array([[1,2,3],[4,5,6],[7,8,9]])\n",
    "\n",
    "print(TWO_D_ARRAY)\n",
    "\n",
    "print(type(TWO_D_ARRAY))\n",
    "\n",
    "print(TWO_D_ARRAY.ndim)"
   ]
  },
  {
   "cell_type": "code",
   "execution_count": 10,
   "id": "e176cdbd",
   "metadata": {},
   "outputs": [
    {
     "name": "stdout",
     "output_type": "stream",
     "text": [
      "[[[[[1 2 3 4 5]]]]]\n",
      "<class 'numpy.ndarray'>\n",
      "5\n"
     ]
    }
   ],
   "source": [
    "#we can also use ndmin argument to create a array of required dimennsion\n",
    "FIVE_D_ARRAY = np.array([1,2,3,4,5],ndmin=5)\n",
    "\n",
    "print(FIVE_D_ARRAY)\n",
    "\n",
    "print(type(FIVE_D_ARRAY))\n",
    "\n",
    "print(FIVE_D_ARRAY.ndim)"
   ]
  },
  {
   "cell_type": "markdown",
   "id": "d3052c06",
   "metadata": {},
   "source": [
    "## INDEXING ARRAY<a class=\"anchor\" id=\"3\"></a>\n",
    "ARRAY INDEXING IS SAME AS ACCESSING AN ARRAY ELEMENT\n",
    "YOU CAN ACCESS AN ARRAY ELEMENT BY REFREING TO ITS INDEX NUMBER\n",
    "THE INDEXES IN ARRAY START WITH 0 MEANING THE FIRST ELEMENT HAS INDEX 0 AND THE SECOND HAS INDEX 1"
   ]
  },
  {
   "cell_type": "code",
   "execution_count": 11,
   "id": "8f1c35e1",
   "metadata": {},
   "outputs": [
    {
     "data": {
      "text/plain": [
       "array([1, 2, 3, 4, 5, 6, 7, 8, 9])"
      ]
     },
     "execution_count": 11,
     "metadata": {},
     "output_type": "execute_result"
    }
   ],
   "source": [
    "#LETS GET THE ELEMENTS FROM THE 1-D ARRAY\n",
    "ONE_D_ARRAY"
   ]
  },
  {
   "cell_type": "code",
   "execution_count": 12,
   "id": "5a16cda0",
   "metadata": {},
   "outputs": [
    {
     "data": {
      "text/plain": [
       "1"
      ]
     },
     "execution_count": 12,
     "metadata": {},
     "output_type": "execute_result"
    }
   ],
   "source": [
    "#FIRST ELEMENT FROM 1-D ARRAY\n",
    "ONE_D_ARRAY[0]"
   ]
  },
  {
   "cell_type": "code",
   "execution_count": 13,
   "id": "f999b83e",
   "metadata": {},
   "outputs": [
    {
     "data": {
      "text/plain": [
       "4"
      ]
     },
     "execution_count": 13,
     "metadata": {},
     "output_type": "execute_result"
    }
   ],
   "source": [
    "#FOURTH ELEMENT OF 1-D ARRAY\n",
    "ONE_D_ARRAY[3]"
   ]
  },
  {
   "cell_type": "code",
   "execution_count": 14,
   "id": "8eb58b0f",
   "metadata": {},
   "outputs": [
    {
     "data": {
      "text/plain": [
       "array([[1, 2, 3],\n",
       "       [4, 5, 6],\n",
       "       [7, 8, 9]])"
      ]
     },
     "execution_count": 14,
     "metadata": {},
     "output_type": "execute_result"
    }
   ],
   "source": [
    "#LETS GET THE ELEMENT OF 2-D ARRAY\n",
    "#TO ACCESS ELEMENTS FROM 2-D ARRAY WE CAN USE COMMA SEPRATED INTEGER RECPRWESENTING THE DIMENSION AND THE INDEX OF THE ELEMENT\n",
    "TWO_D_ARRAY"
   ]
  },
  {
   "cell_type": "code",
   "execution_count": 15,
   "id": "d8f076a0",
   "metadata": {},
   "outputs": [
    {
     "data": {
      "text/plain": [
       "6"
      ]
     },
     "execution_count": 15,
     "metadata": {},
     "output_type": "execute_result"
    }
   ],
   "source": [
    "#THIRD ELEMENT FROM SECOND ROW\n",
    "TWO_D_ARRAY[1,2]\n",
    "\n",
    "#HERE THE FIRST NUMBER (1) CORRESPOND TO THE FIRST DIMNESION AND IN FIRST DIMENSION WE HAVE [1 2 3 ][4 5 6][7 8 9]\n",
    "#NOW WE HAVE INPUTED 1 SO ITS CORRESPOND TO THE SECOND ELEMENT IN THE ARRAY SO NOW WE ARE LEFT WITH\n",
    "#[4 5 6]\n",
    "\n",
    "#THE SECOND NUMBER (2) TELLS THE INDEX AS WE ARE ONLY LEFT WITH WITH [4 5 6] AND WE HAVE GIVEN 2 SO IT WILL GIVE THE\n",
    "#3 ELEMENT IN THE ARRAY WHICH IS 6"
   ]
  },
  {
   "cell_type": "code",
   "execution_count": 16,
   "id": "d5940540",
   "metadata": {},
   "outputs": [
    {
     "name": "stdout",
     "output_type": "stream",
     "text": [
      "[[[[[1 2 3 4 5]]]]]\n"
     ]
    }
   ],
   "source": [
    "print(FIVE_D_ARRAY)"
   ]
  },
  {
   "cell_type": "code",
   "execution_count": 17,
   "id": "72960218",
   "metadata": {},
   "outputs": [
    {
     "data": {
      "text/plain": [
       "5"
      ]
     },
     "execution_count": 17,
     "metadata": {},
     "output_type": "execute_result"
    }
   ],
   "source": [
    "FIVE_D_ARRAY[0,0,0,0,4]"
   ]
  },
  {
   "cell_type": "code",
   "execution_count": 18,
   "id": "cec61d0b",
   "metadata": {},
   "outputs": [
    {
     "data": {
      "text/plain": [
       "array([1, 2, 3, 4, 5, 6, 7, 8, 9])"
      ]
     },
     "execution_count": 18,
     "metadata": {},
     "output_type": "execute_result"
    }
   ],
   "source": [
    "#we can also use negative indexing\n",
    "ONE_D_ARRAY"
   ]
  },
  {
   "cell_type": "code",
   "execution_count": 19,
   "id": "5c5f43a3",
   "metadata": {},
   "outputs": [
    {
     "data": {
      "text/plain": [
       "9"
      ]
     },
     "execution_count": 19,
     "metadata": {},
     "output_type": "execute_result"
    }
   ],
   "source": [
    "ONE_D_ARRAY[-1] #IT WILL GIVE US THE LAST NUMBER FROM THE ARRAY"
   ]
  },
  {
   "cell_type": "markdown",
   "id": "cd103562",
   "metadata": {},
   "source": [
    "## SLICING ARRAY<a class=\"anchor\" id=\"4\"></a>\n",
    "Slicing in python means taking element from one given index to other given index.\n",
    "\n",
    "In this case we pass slice instead of index like this <b>[start:end]</b>\n",
    "\n",
    "We can also define steps <b>[start:end:step]</b>\n",
    "\n",
    "If we dont pass start it will consider 0\n",
    "\n",
    "If we dont pass end it will conider len of array\n",
    "\n",
    "If we dont pass step it will consider 1\n"
   ]
  },
  {
   "cell_type": "code",
   "execution_count": 20,
   "id": "a63b29d8",
   "metadata": {},
   "outputs": [
    {
     "data": {
      "text/plain": [
       "array([1, 2, 3, 4, 5, 6, 7, 8, 9])"
      ]
     },
     "execution_count": 20,
     "metadata": {},
     "output_type": "execute_result"
    }
   ],
   "source": [
    "#SLICE ELEMENT FROM 3 TO 8 FROM ONE_D_ARRAY\n",
    "ONE_D_ARRAY"
   ]
  },
  {
   "cell_type": "code",
   "execution_count": 21,
   "id": "9d8925d2",
   "metadata": {},
   "outputs": [
    {
     "data": {
      "text/plain": [
       "array([3, 4, 5, 6, 7, 8])"
      ]
     },
     "execution_count": 21,
     "metadata": {},
     "output_type": "execute_result"
    }
   ],
   "source": [
    "ONE_D_ARRAY[2:8]    #START WILL BE INCLUDED BUT END INDE WILL NOT BE INCLUED"
   ]
  },
  {
   "cell_type": "code",
   "execution_count": 22,
   "id": "0e253728",
   "metadata": {},
   "outputs": [
    {
     "data": {
      "text/plain": [
       "array([1, 2, 3, 4, 5])"
      ]
     },
     "execution_count": 22,
     "metadata": {},
     "output_type": "execute_result"
    }
   ],
   "source": [
    "#SLICE ELEMENT UPTO 5 FROM THE START \n",
    "ONE_D_ARRAY[:5]      #START IS NOT PROVIDED BY DEFAULT IT IS 0"
   ]
  },
  {
   "cell_type": "code",
   "execution_count": 23,
   "id": "26b7b3d3",
   "metadata": {},
   "outputs": [
    {
     "data": {
      "text/plain": [
       "array([5, 6, 7, 8, 9])"
      ]
     },
     "execution_count": 23,
     "metadata": {},
     "output_type": "execute_result"
    }
   ],
   "source": [
    "#ALICE ELEMENT FROM 5 UPTO LAST\n",
    "ONE_D_ARRAY[4:]"
   ]
  },
  {
   "cell_type": "code",
   "execution_count": 24,
   "id": "dae1e1af",
   "metadata": {},
   "outputs": [
    {
     "data": {
      "text/plain": [
       "array([2, 4, 6, 8])"
      ]
     },
     "execution_count": 24,
     "metadata": {},
     "output_type": "execute_result"
    }
   ],
   "source": [
    "#SLICE ALTERNATE ELEMENT BETWEEN 2 AND 8\n",
    "ONE_D_ARRAY[1:8:2]"
   ]
  },
  {
   "cell_type": "code",
   "execution_count": 25,
   "id": "db7b73bc",
   "metadata": {},
   "outputs": [
    {
     "data": {
      "text/plain": [
       "array([6, 7, 8, 9])"
      ]
     },
     "execution_count": 25,
     "metadata": {},
     "output_type": "execute_result"
    }
   ],
   "source": [
    "#NEGTIVE SLICING \n",
    "#SLICEOUT LAST FOUR ELEMENT FROM ONE_S_ARRAY\n",
    "ONE_D_ARRAY[-4:]"
   ]
  },
  {
   "cell_type": "code",
   "execution_count": 26,
   "id": "db458c87",
   "metadata": {},
   "outputs": [
    {
     "data": {
      "text/plain": [
       "array([[1, 2, 3],\n",
       "       [4, 5, 6],\n",
       "       [7, 8, 9]])"
      ]
     },
     "execution_count": 26,
     "metadata": {},
     "output_type": "execute_result"
    }
   ],
   "source": [
    "#NOW LETS TRY TO ALICE A TWO_D_ARRAY\n",
    "TWO_D_ARRAY"
   ]
  },
  {
   "cell_type": "code",
   "execution_count": 27,
   "id": "69afea34",
   "metadata": {},
   "outputs": [
    {
     "data": {
      "text/plain": [
       "array([[5, 6],\n",
       "       [8, 9]])"
      ]
     },
     "execution_count": 27,
     "metadata": {},
     "output_type": "execute_result"
    }
   ],
   "source": [
    "#SLICE OUT 5 6 8 9 FROM THE ARRAY\n",
    "TWO_D_ARRAY[1:,1:]"
   ]
  },
  {
   "cell_type": "code",
   "execution_count": 28,
   "id": "ccdc24ed",
   "metadata": {},
   "outputs": [
    {
     "data": {
      "text/plain": [
       "array([2, 8])"
      ]
     },
     "execution_count": 28,
     "metadata": {},
     "output_type": "execute_result"
    }
   ],
   "source": [
    "#SLICE OUT 2,8 FROM TWO_D_ARRAY\n",
    "TWO_D_ARRAY[[0,2],1]"
   ]
  },
  {
   "cell_type": "markdown",
   "id": "a154b32e",
   "metadata": {},
   "source": [
    "## VIEW AND COPY<a class=\"anchor\" id=\"5\" ></a>\n",
    "COPY IS NEW ARRAY WHILE VIEW IS ORIGINAL ARRAY\n",
    "\n",
    "COPY OWNS THE DATA ANY CHANGE MADE IN THE COPY WILL NOT AFFECT THE ORIGINAL ARRAY AND ANY CHANGE AMDE TO ORIGINAL ARRAY WILLNOT AFFECT THE COPY\n",
    "\n",
    "VIEW DOES NOT OWN THE DATA ANY CHANGE MADE TO THE VIEW WILL AFFECT THE ORIGINAL DATA"
   ]
  },
  {
   "cell_type": "code",
   "execution_count": 29,
   "id": "9ac2d2cb",
   "metadata": {},
   "outputs": [],
   "source": [
    "ORIGINAL_ARRAY=np.array([1,2,3,4,5,6])\n",
    "COPY_ARRAY=ORIGINAL_ARRAY.copy()      #CREATE COPY OF ORIGINAL_ARRAY\n",
    "VIEW_ARRAY=ORIGINAL_ARRAY.view()      #CREATE VIEW OF ORIGINAL ARRAY"
   ]
  },
  {
   "cell_type": "code",
   "execution_count": 30,
   "id": "f21d379e",
   "metadata": {},
   "outputs": [
    {
     "name": "stdout",
     "output_type": "stream",
     "text": [
      "[1 2 3 4 5 6]\n"
     ]
    }
   ],
   "source": [
    "print(COPY_ARRAY)"
   ]
  },
  {
   "cell_type": "code",
   "execution_count": 31,
   "id": "a75849a8",
   "metadata": {},
   "outputs": [
    {
     "name": "stdout",
     "output_type": "stream",
     "text": [
      "[1 2 3 4 5 6]\n"
     ]
    }
   ],
   "source": [
    "print(VIEW_ARRAY)"
   ]
  },
  {
   "cell_type": "code",
   "execution_count": 32,
   "id": "9cd85581",
   "metadata": {},
   "outputs": [],
   "source": [
    "ORIGINAL_ARRAY[-1]=30"
   ]
  },
  {
   "cell_type": "code",
   "execution_count": 33,
   "id": "da3634fa",
   "metadata": {},
   "outputs": [
    {
     "data": {
      "text/plain": [
       "array([ 1,  2,  3,  4,  5, 30])"
      ]
     },
     "execution_count": 33,
     "metadata": {},
     "output_type": "execute_result"
    }
   ],
   "source": [
    "ORIGINAL_ARRAY"
   ]
  },
  {
   "cell_type": "code",
   "execution_count": 34,
   "id": "53732200",
   "metadata": {},
   "outputs": [
    {
     "data": {
      "text/plain": [
       "array([1, 2, 3, 4, 5, 6])"
      ]
     },
     "execution_count": 34,
     "metadata": {},
     "output_type": "execute_result"
    }
   ],
   "source": [
    "COPY_ARRAY    #COPY ARRAY IS NOT AFFECTED BY CHANGE MADE INTO THE ORIGINAL ARRAY"
   ]
  },
  {
   "cell_type": "code",
   "execution_count": 35,
   "id": "8e384e4d",
   "metadata": {},
   "outputs": [
    {
     "data": {
      "text/plain": [
       "array([ 1,  2,  3,  4,  5, 30])"
      ]
     },
     "execution_count": 35,
     "metadata": {},
     "output_type": "execute_result"
    }
   ],
   "source": [
    "VIEW_ARRAY    #VIEW ARRAY IS AFFECTED BY THE CHANGE IN ORIGINAL ARRAY"
   ]
  },
  {
   "cell_type": "code",
   "execution_count": 36,
   "id": "1298a98f",
   "metadata": {},
   "outputs": [],
   "source": [
    "COPY_ARRAY.base    #as the COPY_ARRAY OWNS THE DATA IT WILL RETURN NONE"
   ]
  },
  {
   "cell_type": "code",
   "execution_count": 37,
   "id": "10678232",
   "metadata": {},
   "outputs": [
    {
     "data": {
      "text/plain": [
       "array([ 1,  2,  3,  4,  5, 30])"
      ]
     },
     "execution_count": 37,
     "metadata": {},
     "output_type": "execute_result"
    }
   ],
   "source": [
    "VIEW_ARRAY.base    #VIEW_ARRAY WILL RETURN THE ORIGINAL ARRAY "
   ]
  },
  {
   "cell_type": "markdown",
   "id": "04f1d1ec",
   "metadata": {},
   "source": [
    "## SHAPING AND RESHAPING ARRAY <a class=\"anchor\" id=\"6\"></a>\n",
    "\n",
    "THE SHAPE OF ARRAY IS THE NUMBER OF ELEMENTS IN EACH DIMENSION\n",
    "\n",
    "NUMPY HAVE AN ATTRIBUTE CALLED SHAPE THAT RETURNS A TUPLE WITH EACH INDEX HAVING THE NUMBER OF CORRESPONDING ELEMENT"
   ]
  },
  {
   "cell_type": "code",
   "execution_count": 38,
   "id": "0d54a421",
   "metadata": {},
   "outputs": [
    {
     "name": "stdout",
     "output_type": "stream",
     "text": [
      "[[1 2 3 4]\n",
      " [5 6 7 8]]\n"
     ]
    }
   ],
   "source": [
    "arr=np.array([[1,2,3,4],[5,6,7,8]])\n",
    "print(arr)"
   ]
  },
  {
   "cell_type": "code",
   "execution_count": 39,
   "id": "658a286f",
   "metadata": {},
   "outputs": [
    {
     "data": {
      "text/plain": [
       "(2, 4)"
      ]
     },
     "execution_count": 39,
     "metadata": {},
     "output_type": "execute_result"
    }
   ],
   "source": [
    "arr.shape  #length of tuple tells the dimension of the array"
   ]
  },
  {
   "cell_type": "code",
   "execution_count": 40,
   "id": "14cc758a",
   "metadata": {},
   "outputs": [
    {
     "data": {
      "text/plain": [
       "array([[[[[1]]]]])"
      ]
     },
     "execution_count": 40,
     "metadata": {},
     "output_type": "execute_result"
    }
   ],
   "source": [
    "arr1=np.array(1,ndmin=5)\n",
    "arr1"
   ]
  },
  {
   "cell_type": "code",
   "execution_count": 41,
   "id": "2e98eba9",
   "metadata": {},
   "outputs": [
    {
     "data": {
      "text/plain": [
       "(1, 1, 1, 1, 1)"
      ]
     },
     "execution_count": 41,
     "metadata": {},
     "output_type": "execute_result"
    }
   ],
   "source": [
    "arr1.shape"
   ]
  },
  {
   "cell_type": "code",
   "execution_count": 42,
   "id": "38515ef3",
   "metadata": {},
   "outputs": [
    {
     "name": "stderr",
     "output_type": "stream",
     "text": [
      "/var/folders/k3/5sc5mpfj02sg1rb5ytlt13yh0000gn/T/ipykernel_11194/485911301.py:2: VisibleDeprecationWarning: Creating an ndarray from ragged nested sequences (which is a list-or-tuple of lists-or-tuples-or ndarrays with different lengths or shapes) is deprecated. If you meant to do this, you must specify 'dtype=object' when creating the ndarray.\n",
      "  arr2=np.array([[1,2,3,4,5],[6,7,8,9]])\n"
     ]
    },
    {
     "data": {
      "text/plain": [
       "(2,)"
      ]
     },
     "execution_count": 42,
     "metadata": {},
     "output_type": "execute_result"
    }
   ],
   "source": [
    "#what we have array of different length\n",
    "arr2=np.array([[1,2,3,4,5],[6,7,8,9]])\n",
    "arr2.shape\n",
    "#so it will give us a little warning sign and display the tuple which contain number of element in outer dimmnesion"
   ]
  },
  {
   "cell_type": "code",
   "execution_count": 43,
   "id": "6934555a",
   "metadata": {},
   "outputs": [],
   "source": [
    "#lets suppose we have an array of students ages and we have 3 students of each age\n",
    "student = np.array([19,19,19,20,20,20,21,21,21])\n",
    "#we also have there average exam score\n",
    "exam_score=np.array([57,60,65,65,72,7559,63,70,])"
   ]
  },
  {
   "cell_type": "code",
   "execution_count": 44,
   "id": "bebef526",
   "metadata": {},
   "outputs": [
    {
     "ename": "ValueError",
     "evalue": "cannot reshape array of size 8 into shape (3,3)",
     "output_type": "error",
     "traceback": [
      "\u001b[0;31m---------------------------------------------------------------------------\u001b[0m",
      "\u001b[0;31mValueError\u001b[0m                                Traceback (most recent call last)",
      "Input \u001b[0;32mIn [44]\u001b[0m, in \u001b[0;36m<cell line: 2>\u001b[0;34m()\u001b[0m\n\u001b[1;32m      1\u001b[0m \u001b[38;5;66;03m#now lets reshape the exam score\u001b[39;00m\n\u001b[0;32m----> 2\u001b[0m exam_split\u001b[38;5;241m=\u001b[39m\u001b[43mexam_score\u001b[49m\u001b[38;5;241;43m.\u001b[39;49m\u001b[43mreshape\u001b[49m\u001b[43m(\u001b[49m\u001b[38;5;241;43m3\u001b[39;49m\u001b[43m,\u001b[49m\u001b[38;5;241;43m3\u001b[39;49m\u001b[43m)\u001b[49m\n\u001b[1;32m      3\u001b[0m exam_split\n",
      "\u001b[0;31mValueError\u001b[0m: cannot reshape array of size 8 into shape (3,3)"
     ]
    }
   ],
   "source": [
    "#now lets reshape the exam score\n",
    "exam_split=exam_score.reshape(3,3)\n",
    "exam_split"
   ]
  },
  {
   "cell_type": "code",
   "execution_count": 45,
   "id": "9aa16cf4",
   "metadata": {},
   "outputs": [
    {
     "data": {
      "text/plain": [
       "8"
      ]
     },
     "execution_count": 45,
     "metadata": {},
     "output_type": "execute_result"
    }
   ],
   "source": [
    "exam_score.size"
   ]
  },
  {
   "cell_type": "code",
   "execution_count": 46,
   "id": "be8262cf",
   "metadata": {},
   "outputs": [],
   "source": [
    "#we cannot reshape each array\n",
    "exam_split1=exam_score.reshape(2,4)\n",
    "#for reshaping size of each element should be same"
   ]
  },
  {
   "cell_type": "code",
   "execution_count": 47,
   "id": "9414f232",
   "metadata": {},
   "outputs": [
    {
     "data": {
      "text/plain": [
       "8"
      ]
     },
     "execution_count": 47,
     "metadata": {},
     "output_type": "execute_result"
    }
   ],
   "source": [
    "exam_score.size"
   ]
  },
  {
   "cell_type": "code",
   "execution_count": 48,
   "id": "90475302",
   "metadata": {},
   "outputs": [
    {
     "ename": "ValueError",
     "evalue": "cannot reshape array of size 8 into shape (3,3,1)",
     "output_type": "error",
     "traceback": [
      "\u001b[0;31m---------------------------------------------------------------------------\u001b[0m",
      "\u001b[0;31mValueError\u001b[0m                                Traceback (most recent call last)",
      "Input \u001b[0;32mIn [48]\u001b[0m, in \u001b[0;36m<cell line: 2>\u001b[0;34m()\u001b[0m\n\u001b[1;32m      1\u001b[0m \u001b[38;5;66;03m#we can also reahpe in any dimension untill the size of both the array is same\u001b[39;00m\n\u001b[0;32m----> 2\u001b[0m exam_split1\u001b[38;5;241m=\u001b[39m\u001b[43mexam_score\u001b[49m\u001b[38;5;241;43m.\u001b[39;49m\u001b[43mreshape\u001b[49m\u001b[43m(\u001b[49m\u001b[38;5;241;43m3\u001b[39;49m\u001b[43m,\u001b[49m\u001b[38;5;241;43m3\u001b[39;49m\u001b[43m,\u001b[49m\u001b[38;5;241;43m1\u001b[39;49m\u001b[43m)\u001b[49m\n\u001b[1;32m      3\u001b[0m exam_split1\n",
      "\u001b[0;31mValueError\u001b[0m: cannot reshape array of size 8 into shape (3,3,1)"
     ]
    }
   ],
   "source": [
    "#we can also reahpe in any dimension untill the size of both the array is same\n",
    "exam_split1=exam_score.reshape(3,3,1)\n",
    "exam_split1"
   ]
  },
  {
   "cell_type": "code",
   "execution_count": 49,
   "id": "18ad6d3d",
   "metadata": {},
   "outputs": [
    {
     "name": "stdout",
     "output_type": "stream",
     "text": [
      "[ 1  2  3  4  5  6  7  8  9 10 11 12]\n",
      "[[[ 1  2  3]\n",
      "  [ 4  5  6]]\n",
      "\n",
      " [[ 7  8  9]\n",
      "  [10 11 12]]]\n",
      "(2, 2, 3)\n"
     ]
    }
   ],
   "source": [
    "arr_shape=np.array([1,2,3,4,5,6,7,8,9,10,11,12])\n",
    "print(arr_shape)\n",
    "#if we want to reshape into a dimnsion in which one dimnession is unknown then we can replace it with -1 \n",
    "#and python will automaticlly calculate the unknown dimension\n",
    "\n",
    "arr_reshape=arr_shape.reshape(2,2,-1)\n",
    "print(arr_reshape)\n",
    "print(arr_reshape.shape)"
   ]
  },
  {
   "cell_type": "code",
   "execution_count": 50,
   "id": "9e15faf7",
   "metadata": {},
   "outputs": [
    {
     "name": "stdout",
     "output_type": "stream",
     "text": [
      "[[[ 1  2  3]\n",
      "  [ 4  5  6]]\n",
      "\n",
      " [[ 7  8  9]\n",
      "  [10 11 12]]]\n",
      "[ 1  2  3  4  5  6  7  8  9 10 11 12]\n"
     ]
    }
   ],
   "source": [
    "print(arr_reshape)\n",
    "\n",
    "arr_reshape_1=arr_reshape.reshape(-1)    #when we insert -1 in the argument then it will flatten the array\n",
    "print(arr_reshape_1)"
   ]
  },
  {
   "cell_type": "markdown",
   "id": "b55530f4",
   "metadata": {},
   "source": [
    "## BASIC OPERATION ON ARRAY <a class=\"anchor\" id=7></a>"
   ]
  },
  {
   "cell_type": "code",
   "execution_count": 51,
   "id": "62841d40",
   "metadata": {},
   "outputs": [],
   "source": [
    "#we can create an array between numbers like we can do with list and the arange command\n",
    "a=np.arange(0,5)    #it will produce a one dimension array with number in the given range          "
   ]
  },
  {
   "cell_type": "code",
   "execution_count": 52,
   "id": "f1df8196",
   "metadata": {},
   "outputs": [],
   "source": [
    "#lets create another sample array\n",
    "b= np.array([4,6,19,23,45])"
   ]
  },
  {
   "cell_type": "code",
   "execution_count": 53,
   "id": "a0d2b838",
   "metadata": {},
   "outputs": [
    {
     "name": "stdout",
     "output_type": "stream",
     "text": [
      "[0 1 2 3 4]\n",
      "[ 4  6 19 23 45]\n"
     ]
    }
   ],
   "source": [
    "print(a)\n",
    "print(b)"
   ]
  },
  {
   "cell_type": "code",
   "execution_count": 54,
   "id": "638b9978",
   "metadata": {},
   "outputs": [
    {
     "name": "stdout",
     "output_type": "stream",
     "text": [
      "[ 4  7 21 26 49]\n",
      "[ -4  -5 -17 -20 -41]\n",
      "[  0   6  38  69 180]\n",
      "[0.         0.16666667 0.10526316 0.13043478 0.08888889]\n",
      "[      1       6     361   12167 4100625]\n"
     ]
    }
   ],
   "source": [
    "#basic mathematical operation\n",
    "#there is a elementwise operation\n",
    "\n",
    "\n",
    "#addition\n",
    "print(a+b)\n",
    "\n",
    "#substraction\n",
    "print(a-b)\n",
    "\n",
    "#multiplication\n",
    "print(a*b)\n",
    "\n",
    "#divison\n",
    "print(a/b)\n",
    "\n",
    "#exponential\n",
    "print(b**a)\n",
    "\n"
   ]
  },
  {
   "cell_type": "code",
   "execution_count": 55,
   "id": "84c80732",
   "metadata": {},
   "outputs": [
    {
     "name": "stdout",
     "output_type": "stream",
     "text": [
      "[ 0  1  4  9 16]\n",
      "[0.         1.         1.41421356 1.73205081 2.        ]\n",
      "[ 0  3  6  9 12]\n",
      "[ True  True  True False False]\n"
     ]
    }
   ],
   "source": [
    "#squaring all element in the array\n",
    "print(a**2)\n",
    "\n",
    "#square root all the element\n",
    "print(np.sqrt(a))      #sqrt is a method in numpy\n",
    "\n",
    "#multiplying array by ac onstant value\n",
    "print(a*3)\n",
    "\n",
    "#check for boolean value in the list\n",
    "print(a<3)    #it will give as a boolean value checking each value if it is greater or smaller than the given value"
   ]
  },
  {
   "cell_type": "code",
   "execution_count": 56,
   "id": "38b58054",
   "metadata": {},
   "outputs": [
    {
     "name": "stdout",
     "output_type": "stream",
     "text": [
      " our array = [1 2 3 4 5] \n",
      " sum of array= 15\n",
      "\n",
      "\n",
      "our two d array= \n",
      " [[1 2 3]\n",
      " [4 5 6]]\n",
      "[5 7 9]\n",
      "21\n",
      "5\n",
      "5\n",
      "6\n",
      "[12 15 18]\n",
      "[ 6 15 24]\n",
      "45\n"
     ]
    }
   ],
   "source": [
    "# operation that come in handy for data analysis\n",
    "one_dim=np.array([1,2,3,4,5])\n",
    "two_dim=np.array([[1,2,3],[4,5,6]])\n",
    "\n",
    "#summations\n",
    "#summing up all the eleemnt in a one_d_array\n",
    "print(\" our array =\",one_dim,\"\\n\",\"sum of array=\",sum(one_dim))\n",
    "print(\"\\n\")\n",
    "#summation of twto_dim_array\n",
    "print(\"our two d array=\",\"\\n\",two_dim)\n",
    "print(sum(two_dim))   #it will give us the sum along the particular axis in this case along the column\n",
    "\n",
    "#what if we want sum of all the elements in multi_dim array\n",
    "print(two_dim.sum())\n",
    "\n",
    "#maximum and minmum in the array'\n",
    "print(one_dim.max())  \n",
    "print(max(one_dim))    #above both the statement are right\n",
    "\n",
    "print(two_dim.max())   #similarly we cn also calculate the min_value\n",
    "\n",
    "#lets consider a 2_d array\n",
    "two_d_array=np.array([[1,2,3],[4,5,6],[7,8,9]])\n",
    "\n",
    "#if we want sum across columns\n",
    "print(two_d_array.sum(axis=0))\n",
    "\n",
    "#if we want sum across rows\n",
    "print(two_d_array.sum(axis=1))\n",
    "\n",
    "#if we want sum of all the elements\n",
    "print(two_d_array.sum())\n",
    "\n",
    "#similarly we can also find min and max\n"
   ]
  },
  {
   "cell_type": "markdown",
   "id": "bcf0089a",
   "metadata": {},
   "source": [
    "## ITERATING IN ARRAYS<a class=\"anchor\" id=\"8\"></a>\n",
    "ITEREATING MEANS GOING THROUGH ELEMENT ONE BY ONE\n",
    "\n",
    "AS WE DEAL WITH MULTI_DIMENSIOBNAL ARRAY IN NUMPY WE CAN DO THIS USING BASIC FOR LOOP OF PYTHON"
   ]
  },
  {
   "cell_type": "code",
   "execution_count": 57,
   "id": "398dbe1d",
   "metadata": {},
   "outputs": [
    {
     "name": "stdout",
     "output_type": "stream",
     "text": [
      "[1 2 3 4 5]\n",
      "1\n",
      "2\n",
      "3\n",
      "4\n",
      "5\n",
      "[[1 2 3]\n",
      " [4 5 6]\n",
      " [7 8 9]]\n",
      "[1 2 3]\n",
      "[4 5 6]\n",
      "[7 8 9]\n",
      "1\n",
      "2\n",
      "3\n",
      "4\n",
      "5\n",
      "6\n",
      "7\n",
      "8\n",
      "9\n",
      "1\n",
      "2\n",
      "3\n",
      "4\n",
      "5\n",
      "6\n",
      "7\n",
      "8\n",
      "9\n",
      "1\n",
      "2\n",
      "3\n",
      "4\n",
      "5\n",
      "6\n",
      "7\n",
      "8\n",
      "9\n",
      "(0, 0) 1\n",
      "(0, 1) 2\n",
      "(0, 2) 3\n",
      "(1, 0) 4\n",
      "(1, 1) 5\n",
      "(1, 2) 6\n",
      "(2, 0) 7\n",
      "(2, 1) 8\n",
      "(2, 2) 9\n"
     ]
    }
   ],
   "source": [
    "#creating a one_d_array\n",
    "one_dim=np.arange(1,6)\n",
    "print(one_dim)\n",
    "\n",
    "#iterating over one_d_array\n",
    "for element in one_dim:\n",
    "    print(element)\n",
    "    \n",
    "#craeting a two_d_array\n",
    "two_dim=np.array([[1,2,3],[4,5,6],[7,8,9]])\n",
    "print(two_dim)\n",
    "\n",
    "#iterating over two_d_array\n",
    "# as it is a 2_d array and there are 3 element in the outer dim\n",
    "for i in two_dim:\n",
    "    print(i)\n",
    "    \n",
    "#what if we want to iterate over all the values\n",
    "#method 1-using a nested for loop\n",
    "for i in two_dim:\n",
    "    for j in i:\n",
    "        print(j)\n",
    "        \n",
    "#method 2-by reshaping the array\n",
    "for i in two_dim.reshape(-1):\n",
    "    print(i)\n",
    "\n",
    "#method 3-my usng numpy method \"nditer\"\n",
    "\n",
    "for i in np.nditer(two_dim):\n",
    "    print(i)\n",
    "    \n",
    "#figuring out index using \"ndenumerate\"\n",
    "\n",
    "for index,element in np.ndenumerate(two_dim):\n",
    "    print(index,element)"
   ]
  },
  {
   "cell_type": "markdown",
   "id": "67d7c77e",
   "metadata": {},
   "source": [
    "## JOINING AND SPLITTING<a class=anchor id=9></a>\n",
    "\n",
    "JOINING MEANS PUTTING CONTENT OF TWO OR MORE ARRAYS IN A SINGLE ARRAY\n",
    "\n",
    "IN SQL WE JOIN ARRAYS ON THE BASIS OF KEY,WHILE IN NUMPY WE JOIN SRRAYS ON THE BASIS OF AXIS\n",
    "\n",
    "WE PASS A SEQUENCE OF AARAYS THAT WE WANT TO JOIN TO THE CONCATENATE FUNCTION ALONG WITH THE AXIS.BY DEFAULT AXIS IS 0"
   ]
  },
  {
   "cell_type": "code",
   "execution_count": 72,
   "id": "fd04933f",
   "metadata": {},
   "outputs": [
    {
     "name": "stdout",
     "output_type": "stream",
     "text": [
      "[1 2 3 4 5]\n",
      "\n",
      "\n",
      "[ 6  7  8  9 10]\n",
      "\n",
      "\n",
      "[ 1  2  3  4  5  6  7  8  9 10]\n"
     ]
    }
   ],
   "source": [
    "first_array=np.arange(1,6)\n",
    "print(first_array)\n",
    "\n",
    "print(\"\\n\")\n",
    "\n",
    "second_array=np.arange(6,11)\n",
    "print(second_array)\n",
    "\n",
    "print(\"\\n\")\n",
    "#for a single dimenssion array there is only one axis\n",
    "join_array_0_axis=np.concatenate((first_array,second_array))\n",
    "print(join_array_0_axis)\n"
   ]
  },
  {
   "cell_type": "code",
   "execution_count": 84,
   "id": "13aaa92f",
   "metadata": {},
   "outputs": [
    {
     "name": "stdout",
     "output_type": "stream",
     "text": [
      "first_array=\n",
      " [[1 2]\n",
      " [3 4]]\n",
      "second_array=\n",
      " [[5 6]\n",
      " [7 8]]\n",
      "concatenated array=\n",
      " [[1 2]\n",
      " [3 4]\n",
      " [5 6]\n",
      " [7 8]]\n",
      "concatenated array=\n",
      " [[1 2 5 6]\n",
      " [3 4 7 8]]\n"
     ]
    }
   ],
   "source": [
    "two_d_array_first=np.array([[1,2],[3,4]])\n",
    "print(\"first_array=\\n\",two_d_array_first)\n",
    "\n",
    "two_d_array_second=np.array([[5,6],[7,8]])\n",
    "print(\"second_array=\\n\",two_d_array_second)\n",
    "\n",
    "\n",
    "#as axis is not mentioned array will be concatenated along column or zero_axis\n",
    "concatenated_array_0_axis=np.concatenate((two_d_array_first,two_d_array_second))\n",
    "print(\"concatenated array=\\n\",concatenated_array_0_axis)\n",
    "\n",
    "#concatenating along rows\n",
    "concatenated_array_1_axis=np.concatenate((two_d_array_first,two_d_array_second),axis=1)\n",
    "print(\"concatenated array=\\n\",concatenated_array_1_axis)"
   ]
  },
  {
   "cell_type": "markdown",
   "id": "54606e9a",
   "metadata": {},
   "source": [
    "#### stacking\n",
    "\n",
    "stacking is same as concatenation the only difference is stacking is done along a new axis\n",
    "\n",
    "with stacking we can concatenate two 1_d array along the second axis"
   ]
  },
  {
   "cell_type": "code",
   "execution_count": 95,
   "id": "60c12ca1",
   "metadata": {},
   "outputs": [
    {
     "name": "stdout",
     "output_type": "stream",
     "text": [
      "[[ 1  2  3  4  5]\n",
      " [ 6  7  8  9 10]]\n",
      "[[ 1  6]\n",
      " [ 2  7]\n",
      " [ 3  8]\n",
      " [ 4  9]\n",
      " [ 5 10]]\n",
      "[ 1  2  3  4  5  6  7  8  9 10]\n",
      "[[ 1  2  3  4  5]\n",
      " [ 6  7  8  9 10]]\n",
      "[[[ 1  6]\n",
      "  [ 2  7]\n",
      "  [ 3  8]\n",
      "  [ 4  9]\n",
      "  [ 5 10]]]\n"
     ]
    }
   ],
   "source": [
    "first_array=np.array([1,2,3,4,5])\n",
    "second_array=np.array([6,7,8,9,10])\n",
    "\n",
    "stack_0_axis=np.stack((first_array,second_array),axis=0)\n",
    "print(stack_0_axis)\n",
    "\n",
    "stack_1_axis=np.stack((first_array,second_array),axis=1)\n",
    "print(stack_1_axis)\n",
    "\n",
    "#we can also use some helpfull function\n",
    "stack_horizontal=np.hstack((first_array,second_array))\n",
    "print(stack_horizontal)\n",
    "\n",
    "stack_verticle=np.vstack((first_array,second_array))\n",
    "print(stack_verticle)\n",
    "\n",
    "stack_depth=np.dstack((first_array,second_array))\n",
    "print(stack_depth)"
   ]
  },
  {
   "cell_type": "markdown",
   "id": "586ca249",
   "metadata": {},
   "source": [
    "## SPLITING ARRAY\n",
    "\n",
    "SPLITING IS REVERSE OPERATION OF JOINING\n",
    "\n",
    "JOINIG MERGES MULTIPLE ARRAYS INTO ONE AND SPLITTING BREAKS ONE ARRAY INTO MULTIPLE\n",
    "\n",
    "WE USE ARRAY_SPLIT() FOR SPLITTING ARRAYS WE PASS IN THE ARRAY WE WANT TO SPLIT AND THE NUMBER OF SPLITS"
   ]
  },
  {
   "cell_type": "code",
   "execution_count": 99,
   "id": "6f5b4aac",
   "metadata": {},
   "outputs": [
    {
     "data": {
      "text/plain": [
       "array([1, 2, 3, 4, 5, 6, 7, 8, 9])"
      ]
     },
     "execution_count": 99,
     "metadata": {},
     "output_type": "execute_result"
    }
   ],
   "source": [
    "array1=np.array((1,2,3,4,5,6,7,8,9))\n",
    "array1"
   ]
  },
  {
   "cell_type": "code",
   "execution_count": 111,
   "id": "4bd51a75",
   "metadata": {},
   "outputs": [
    {
     "name": "stdout",
     "output_type": "stream",
     "text": [
      "[1 2 3]\n",
      "[4 5 6]\n",
      "[7 8 9]\n"
     ]
    }
   ],
   "source": [
    "#now lets aplit above array\n",
    "new_array=np.array_split(array1,3)\n",
    "print(new_array[0])\n",
    "print(new_array[1])\n",
    "print(new_array[2])"
   ]
  },
  {
   "cell_type": "code",
   "execution_count": 113,
   "id": "e1e02607",
   "metadata": {},
   "outputs": [
    {
     "name": "stdout",
     "output_type": "stream",
     "text": [
      "[array([1, 2, 3]), array([4, 5]), array([6, 7]), array([8, 9])]\n"
     ]
    }
   ],
   "source": [
    "#if array will have less element than it will adjust from end accordingly\n",
    "new_array_2=np.array_split(array1,4)\n",
    "print(new_array_2)"
   ]
  },
  {
   "cell_type": "code",
   "execution_count": 116,
   "id": "234e2775",
   "metadata": {},
   "outputs": [
    {
     "name": "stdout",
     "output_type": "stream",
     "text": [
      "[[1 2]\n",
      " [3 4]\n",
      " [5 6]\n",
      " [7 8]]\n"
     ]
    }
   ],
   "source": [
    "#similarly a 2_d array can be split\n",
    "array2=np.array([[1,2],[3,4],[5,6],[7,8]])\n",
    "print(array2)"
   ]
  },
  {
   "cell_type": "code",
   "execution_count": 120,
   "id": "ace2b786",
   "metadata": {},
   "outputs": [
    {
     "data": {
      "text/plain": [
       "[array([[1, 2]]), array([[3, 4]]), array([[5, 6]]), array([[7, 8]])]"
      ]
     },
     "execution_count": 120,
     "metadata": {},
     "output_type": "execute_result"
    }
   ],
   "source": [
    "new_array_3=np.array_split(array2,4)\n",
    "new_array_3"
   ]
  },
  {
   "cell_type": "code",
   "execution_count": 125,
   "id": "145d2c33",
   "metadata": {},
   "outputs": [
    {
     "name": "stdout",
     "output_type": "stream",
     "text": [
      "[array([[1, 2, 3]]), array([[4, 5, 6]]), array([[7, 8, 9]])]\n",
      "[array([[1],\n",
      "       [4],\n",
      "       [7]]), array([[2],\n",
      "       [5],\n",
      "       [8]]), array([[3],\n",
      "       [6],\n",
      "       [9]])]\n"
     ]
    }
   ],
   "source": [
    "array3=np.array([[1,2,3],[4,5,6],[7,8,9]])\n",
    "\n",
    "#we can split the above array along both the axis\n",
    "#a 2-d array when splitted will result only in a 2_d array\n",
    "new_array_columns=np.array_split(array3,3)\n",
    "print(new_array_columns)\n",
    "\n",
    "new_array_rows=np.array_split(array3,3,axis=1)\n",
    "print(new_array_rows)"
   ]
  },
  {
   "cell_type": "code",
   "execution_count": 128,
   "id": "4dfec30b",
   "metadata": {},
   "outputs": [
    {
     "name": "stdout",
     "output_type": "stream",
     "text": [
      "[array([[ 1],\n",
      "       [ 4],\n",
      "       [ 7],\n",
      "       [10],\n",
      "       [13],\n",
      "       [16]]), array([[ 2],\n",
      "       [ 5],\n",
      "       [ 8],\n",
      "       [11],\n",
      "       [14],\n",
      "       [17]]), array([[ 3],\n",
      "       [ 6],\n",
      "       [ 9],\n",
      "       [12],\n",
      "       [15],\n",
      "       [18]])]\n",
      "[array([[1, 2, 3],\n",
      "       [4, 5, 6]]), array([[ 7,  8,  9],\n",
      "       [10, 11, 12]]), array([[13, 14, 15],\n",
      "       [16, 17, 18]])]\n"
     ]
    }
   ],
   "source": [
    "array4=np.array([[1, 2, 3], [4, 5, 6], [7, 8, 9], [10, 11, 12], [13, 14, 15], [16, 17, 18]])\n",
    "\n",
    "new_array_horizontal=np.hsplit(array4,3)\n",
    "print(new_array_horizontal)\n",
    "\n",
    "new_array_verticle=np.vsplit(array4,3)\n",
    "print(new_array_verticle)"
   ]
  },
  {
   "cell_type": "code",
   "execution_count": 136,
   "id": "1e3da660",
   "metadata": {},
   "outputs": [
    {
     "name": "stdout",
     "output_type": "stream",
     "text": [
      "[ 1  2  3  4  5  6  7  8  9 10 11 12]\n",
      "[array([1, 2, 3]), array([4, 5, 6]), array([7, 8, 9]), array([10, 11, 12])]\n",
      "[array([1, 2, 3]), array([4, 5, 6]), array([7, 8, 9]), array([10, 11, 12])]\n",
      "[array([1, 2, 3]), array([4, 5, 6]), array([7, 8]), array([ 9, 10]), array([11, 12])]\n"
     ]
    },
    {
     "ename": "ValueError",
     "evalue": "array split does not result in an equal division",
     "output_type": "error",
     "traceback": [
      "\u001b[0;31m---------------------------------------------------------------------------\u001b[0m",
      "\u001b[0;31mValueError\u001b[0m                                Traceback (most recent call last)",
      "Input \u001b[0;32mIn [136]\u001b[0m, in \u001b[0;36m<cell line: 15>\u001b[0;34m()\u001b[0m\n\u001b[1;32m     12\u001b[0m second_array_split\u001b[38;5;241m=\u001b[39mnp\u001b[38;5;241m.\u001b[39marray_split(array,\u001b[38;5;241m5\u001b[39m)\n\u001b[1;32m     13\u001b[0m \u001b[38;5;28mprint\u001b[39m(second_array_split)\n\u001b[0;32m---> 15\u001b[0m second_array\u001b[38;5;241m=\u001b[39m\u001b[43mnp\u001b[49m\u001b[38;5;241;43m.\u001b[39;49m\u001b[43msplit\u001b[49m\u001b[43m(\u001b[49m\u001b[43marray\u001b[49m\u001b[43m,\u001b[49m\u001b[38;5;241;43m5\u001b[39;49m\u001b[43m)\u001b[49m\n",
      "File \u001b[0;32m<__array_function__ internals>:5\u001b[0m, in \u001b[0;36msplit\u001b[0;34m(*args, **kwargs)\u001b[0m\n",
      "File \u001b[0;32m~/opt/anaconda3/lib/python3.9/site-packages/numpy/lib/shape_base.py:872\u001b[0m, in \u001b[0;36msplit\u001b[0;34m(ary, indices_or_sections, axis)\u001b[0m\n\u001b[1;32m    870\u001b[0m     N \u001b[38;5;241m=\u001b[39m ary\u001b[38;5;241m.\u001b[39mshape[axis]\n\u001b[1;32m    871\u001b[0m     \u001b[38;5;28;01mif\u001b[39;00m N \u001b[38;5;241m%\u001b[39m sections:\n\u001b[0;32m--> 872\u001b[0m         \u001b[38;5;28;01mraise\u001b[39;00m \u001b[38;5;167;01mValueError\u001b[39;00m(\n\u001b[1;32m    873\u001b[0m             \u001b[38;5;124m'\u001b[39m\u001b[38;5;124marray split does not result in an equal division\u001b[39m\u001b[38;5;124m'\u001b[39m) \u001b[38;5;28;01mfrom\u001b[39;00m \u001b[38;5;28mNone\u001b[39m\n\u001b[1;32m    874\u001b[0m \u001b[38;5;28;01mreturn\u001b[39;00m array_split(ary, indices_or_sections, axis)\n",
      "\u001b[0;31mValueError\u001b[0m: array split does not result in an equal division"
     ]
    }
   ],
   "source": [
    "#split and array_split both works same but split will give an error when splitting size is inappropriate\n",
    "\n",
    "array=np.arange(1,13)\n",
    "print(array)\n",
    "\n",
    "first_split=np.split(array,4)\n",
    "print(first_split)\n",
    "\n",
    "first_array_split=np.array_split(array,4)\n",
    "print(first_array_split)\n",
    "\n",
    "second_array_split=np.array_split(array,5)\n",
    "print(second_array_split)\n",
    "\n",
    "second_array=np.split(array,5)     #this will give an error "
   ]
  },
  {
   "cell_type": "markdown",
   "id": "e19cee5b",
   "metadata": {},
   "source": [
    "## SEARCHING IN ARRAYS <a class=anchor id=10></a>\n",
    "WE CAN SEARCH IN ARRAY FOR A CERTAIN VALUE AND CAN RETURN INDEX OF THAT VALUE"
   ]
  },
  {
   "cell_type": "code",
   "execution_count": 138,
   "id": "01d23c6f",
   "metadata": {},
   "outputs": [
    {
     "data": {
      "text/plain": [
       "array([ 1,  2,  3,  4,  5,  6,  7,  8,  9, 10])"
      ]
     },
     "execution_count": 138,
     "metadata": {},
     "output_type": "execute_result"
    }
   ],
   "source": [
    "array=np.arange(1,11)\n",
    "array"
   ]
  },
  {
   "cell_type": "code",
   "execution_count": 141,
   "id": "d79ffccc",
   "metadata": {},
   "outputs": [
    {
     "name": "stdout",
     "output_type": "stream",
     "text": [
      "(array([3]),)\n"
     ]
    }
   ],
   "source": [
    "x=np.where(array==4)\n",
    "print(x)"
   ]
  },
  {
   "cell_type": "code",
   "execution_count": 143,
   "id": "e8c89715",
   "metadata": {},
   "outputs": [
    {
     "name": "stdout",
     "output_type": "stream",
     "text": [
      "(array([ 2,  3,  4,  5,  9, 10]),)\n"
     ]
    }
   ],
   "source": [
    "#suppose we are searching for an element which is repeated multiple time in the array\n",
    "#it will provide us a tulple of index where value = element\n",
    "array=np.array((1,2,3,3,3,3,4,5,63,3,3))\n",
    "x=np.where(array==3)\n",
    "print(x)"
   ]
  },
  {
   "cell_type": "code",
   "execution_count": 146,
   "id": "be2587c6",
   "metadata": {},
   "outputs": [
    {
     "name": "stdout",
     "output_type": "stream",
     "text": [
      "(array([1, 3, 5, 7, 9]),)\n"
     ]
    }
   ],
   "source": [
    "#we can also find the index of the even value\n",
    "#it will provide us index of all the even numbers\n",
    "array = np.arange(1,11)\n",
    "x=np.where(array%2==0)\n",
    "print(x)"
   ]
  },
  {
   "cell_type": "code",
   "execution_count": 148,
   "id": "9597cd2e",
   "metadata": {},
   "outputs": [
    {
     "name": "stdout",
     "output_type": "stream",
     "text": [
      "(array([0, 1, 2, 3]),)\n"
     ]
    }
   ],
   "source": [
    "#if we want index of element less than 5\n",
    "array=np.arange(1,11)\n",
    "x=np.where(array<5)\n",
    "print(x)"
   ]
  },
  {
   "cell_type": "code",
   "execution_count": 152,
   "id": "1a465e4d",
   "metadata": {},
   "outputs": [
    {
     "name": "stdout",
     "output_type": "stream",
     "text": [
      "[ 1  2  3  4  5  6  7  8  9 10]\n",
      "[3 6 9]\n"
     ]
    }
   ],
   "source": [
    "#lets see if number is divivsible by 3\n",
    "array = np.arange(1,11)\n",
    "divisible_by_3=np.where(array%3==0)\n",
    "print(array)    #it will give the index of element divisible by 3\n",
    "\n",
    "print(array[divisible_by_3])    #it will give the number"
   ]
  },
  {
   "cell_type": "markdown",
   "id": "88919bbb",
   "metadata": {},
   "source": [
    "## SORTING AND FILTERING <a order=anchor id=11></a>\n",
    "SORTING MEANS PUTTING ELEMENTS IN AN ORDERED SEQUENCE ASCENDING OR DESCENDING ORDER\n",
    "\n",
    "THE NUMPY NDARRAY HAS A FUNCTION CALLED SORT()"
   ]
  },
  {
   "cell_type": "code",
   "execution_count": 154,
   "id": "9d398ab4",
   "metadata": {},
   "outputs": [
    {
     "name": "stdout",
     "output_type": "stream",
     "text": [
      "['graphes' 'apple' 'banana' 'mango']\n"
     ]
    }
   ],
   "source": [
    "fruits=np.array([\"graphes\",\"apple\",\"banana\",\"mango\"])\n",
    "print(fruits)"
   ]
  },
  {
   "cell_type": "code",
   "execution_count": 158,
   "id": "703520d2",
   "metadata": {},
   "outputs": [
    {
     "name": "stdout",
     "output_type": "stream",
     "text": [
      "['apple' 'banana' 'graphes' 'mango']\n"
     ]
    }
   ],
   "source": [
    "print(np.sort(fruits))"
   ]
  },
  {
   "cell_type": "code",
   "execution_count": 159,
   "id": "5fe4d732",
   "metadata": {},
   "outputs": [
    {
     "name": "stdout",
     "output_type": "stream",
     "text": [
      "[[3 4 5]\n",
      " [2 6 7]]\n"
     ]
    }
   ],
   "source": [
    "#sorting a 2-D array\n",
    "array=np.array([[4,3,5],[6,2,7]])\n",
    "print(np.sort(array))"
   ]
  },
  {
   "cell_type": "markdown",
   "id": "bab9f0b2",
   "metadata": {},
   "source": [
    "#### FILTERING\n",
    "GETTING SOME ELEMENT OUT OF AN EXISTING ARRAY AND CREATING A NEW ARRAY OUT OF THEM OS CALLED FILTERING\n",
    "\n",
    "IN NUMPY FILTERING IS DONE USING A BOOLEAN LIST"
   ]
  },
  {
   "cell_type": "code",
   "execution_count": 160,
   "id": "2c9bc07e",
   "metadata": {},
   "outputs": [
    {
     "data": {
      "text/plain": [
       "array([1, 3, 5, 7, 8])"
      ]
     },
     "execution_count": 160,
     "metadata": {},
     "output_type": "execute_result"
    }
   ],
   "source": [
    "array=np.array([1,2,3,4,5,6,7,8])\n",
    "filt=[True,False,True,False,True,False,True,True]\n",
    "\n",
    "array[filt]"
   ]
  },
  {
   "cell_type": "code",
   "execution_count": 163,
   "id": "325a1815",
   "metadata": {},
   "outputs": [
    {
     "name": "stdout",
     "output_type": "stream",
     "text": [
      "[6 7 8]\n"
     ]
    }
   ],
   "source": [
    "#we can also filter as per our condition\n",
    "greater_than_five=array[array>5]\n",
    "print(greater_than_five)"
   ]
  },
  {
   "cell_type": "code",
   "execution_count": 172,
   "id": "cc3b5559",
   "metadata": {},
   "outputs": [
    {
     "name": "stdout",
     "output_type": "stream",
     "text": [
      "3\n"
     ]
    }
   ],
   "source": [
    "array=np.array([1,2,3,5,6,7])\n",
    "#this value will return the index where the inputted value should be inserted\n",
    "#to maintain the order\n",
    "x=np.searchsorted(array,4)\n",
    "print(x)"
   ]
  },
  {
   "cell_type": "markdown",
   "id": "ee5e5178",
   "metadata": {},
   "source": [
    "## RANDOM MODULE<a class=anchor id=12></a>\n",
    "\n",
    "RANDOM NUMBER DOES NOT MEAN A DIFFERENT NUMBER EVERY TIME RANDOM MEANS SOMETHING THAT CAN NOT BE PREDICTED LOGICALLY"
   ]
  },
  {
   "cell_type": "code",
   "execution_count": 173,
   "id": "16a0606a",
   "metadata": {},
   "outputs": [],
   "source": [
    "#importing random module\n",
    "from numpy import random"
   ]
  },
  {
   "cell_type": "code",
   "execution_count": 208,
   "id": "8d25771c",
   "metadata": {},
   "outputs": [
    {
     "name": "stdout",
     "output_type": "stream",
     "text": [
      "[67 69 90  5 76]\n",
      "[[277 533 374]\n",
      " [533 250 841]]\n"
     ]
    }
   ],
   "source": [
    "#random module has different function\n",
    "\n",
    "#randint(low,high,size=number_of_integer_required)-uniformly distributed integers in a given range\n",
    "#it will include low value(by default low value is 0) from the range and exclude high value\n",
    "\n",
    "x=np.random.randint(0,100,size=5)    #it will generate a array of 5 random value between >=0 and <100\n",
    "print(x)\n",
    "\n",
    "y=np.random.randint(0,1000,size=(2,3))\n",
    "print(y)"
   ]
  },
  {
   "cell_type": "code",
   "execution_count": 214,
   "id": "75cef2f9",
   "metadata": {},
   "outputs": [
    {
     "name": "stdout",
     "output_type": "stream",
     "text": [
      "[0.78808234 0.76140689 0.3133889  0.11813394 0.99706089]\n",
      "[[0.70480652 0.08570391 0.15566553 0.33758803 0.89547197 0.02369605]\n",
      " [0.87262377 0.16518836 0.01697583 0.11046051 0.21930194 0.34996659]\n",
      " [0.1340481  0.92755009 0.92260676 0.70723781 0.72797334 0.56603411]\n",
      " [0.59977345 0.80373415 0.71760721 0.79145481 0.42687344 0.76276079]\n",
      " [0.06046305 0.52865947 0.5397946  0.23436608 0.73855899 0.57931862]]\n"
     ]
    }
   ],
   "source": [
    "#rand-this function will generate a random float value between 0 and 1\n",
    "#it will take the argument for the shape of the array\n",
    "x=np.random.rand(5)    #it will generate 5 random float value between 0 and 1\n",
    "print(x)\n",
    "\n",
    "y=np.random.rand(5,6)   #it will return an array of 5X6\n",
    "print(y)"
   ]
  },
  {
   "cell_type": "code",
   "execution_count": 224,
   "id": "e176bff5",
   "metadata": {},
   "outputs": [
    {
     "name": "stdout",
     "output_type": "stream",
     "text": [
      "3\n",
      "[4 1 4 5 2]\n"
     ]
    }
   ],
   "source": [
    "#choice-this function will chose a random value from array\n",
    "x=np.random.choice([1,2,3,4,5])     #this will chose a single random value from the array\n",
    "print(x)\n",
    "\n",
    "y=np.random.choice([1,2,3,4,5],size=5)   #this will generate 5 random number from the above list\n",
    "print(y)"
   ]
  },
  {
   "cell_type": "code",
   "execution_count": 239,
   "id": "e55be788",
   "metadata": {},
   "outputs": [
    {
     "name": "stdout",
     "output_type": "stream",
     "text": [
      "[0. 0. 0.]\n",
      "[[0. 0. 0.]\n",
      " [0. 0. 0.]\n",
      " [0. 0. 0.]]\n"
     ]
    }
   ],
   "source": [
    "#there is a function in numpy which can generate a zeros\n",
    "\n",
    "zero_1=np.zeros(3)   #here it will give an array containg 3 zeros\n",
    "print(zero_1) \n",
    "\n",
    "zero_2=np.zeros(shape=(3,3))    #it will take an argumnt shape which will return an array\n",
    "print(zero_2)"
   ]
  },
  {
   "cell_type": "code",
   "execution_count": 243,
   "id": "d62ddb84",
   "metadata": {},
   "outputs": [
    {
     "name": "stdout",
     "output_type": "stream",
     "text": [
      "[1. 1. 1.]\n",
      "[[1. 1. 1.]\n",
      " [1. 1. 1.]\n",
      " [1. 1. 1.]]\n"
     ]
    }
   ],
   "source": [
    "#there is another function in numpy which can generate one\n",
    "\n",
    "one_1=np.ones(3)\n",
    "print(one_1)\n",
    "\n",
    "one_2=np.ones(shape=(3,3))\n",
    "print(one_2)"
   ]
  },
  {
   "cell_type": "code",
   "execution_count": 246,
   "id": "a32925bf",
   "metadata": {},
   "outputs": [
    {
     "name": "stdout",
     "output_type": "stream",
     "text": [
      "[[1. 0. 0.]\n",
      " [0. 1. 0.]\n",
      " [0. 0. 1.]]\n"
     ]
    }
   ],
   "source": [
    "#we can also generate a identity array\n",
    "identity=np.identity(3)    #it will take a single value and give a square matrix\n",
    "print(identity)"
   ]
  },
  {
   "cell_type": "markdown",
   "id": "37eb928a",
   "metadata": {},
   "source": []
  }
 ],
 "metadata": {
  "kernelspec": {
   "display_name": "Python 3 (ipykernel)",
   "language": "python",
   "name": "python3"
  },
  "language_info": {
   "codemirror_mode": {
    "name": "ipython",
    "version": 3
   },
   "file_extension": ".py",
   "mimetype": "text/x-python",
   "name": "python",
   "nbconvert_exporter": "python",
   "pygments_lexer": "ipython3",
   "version": "3.9.12"
  }
 },
 "nbformat": 4,
 "nbformat_minor": 5
}
